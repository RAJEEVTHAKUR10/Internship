{
 "cells": [
  {
   "cell_type": "markdown",
   "id": "8e60b74e",
   "metadata": {},
   "source": [
    "# 11. Write a python program to find the factorial of a number.\n"
   ]
  },
  {
   "cell_type": "code",
   "execution_count": null,
   "id": "54771bce",
   "metadata": {},
   "outputs": [],
   "source": [
    "# To take input from the user\n",
    "num = int(input(\"Enter a number: \"))\n",
    "\n",
    "factorial = 1\n",
    "\n",
    "# check if the number is negative, positive or zero\n",
    "if num < 0:\n",
    "    print(\"Sorry, factorial does not exist for negative numbers\")\n",
    "elif num == 0:\n",
    "    print(\"The factorial of 0 is 1\")\n",
    "else:\n",
    "    for i in range(1,num + 1):\n",
    "        factorial = factorial*i\n",
    "    print(\"The factorial of\",num,\"is\",factorial)\n"
   ]
  },
  {
   "cell_type": "markdown",
   "id": "85f027d0",
   "metadata": {},
   "source": [
    "# 12. Write a python program to find whether a number is prime or composite."
   ]
  },
  {
   "cell_type": "code",
   "execution_count": 9,
   "id": "88f61e00",
   "metadata": {},
   "outputs": [
    {
     "name": "stdout",
     "output_type": "stream",
     "text": [
      "Enter any number:2\n",
      "2 number is prime but not composite number\n"
     ]
    }
   ],
   "source": [
    "\n",
    "n= int(input(\"Enter any number:\"))\n",
    "if(n ==0 or n == 1):\n",
    "    print(n,\"Number is neither prime nor composite\")\n",
    "elif n>1 :\n",
    "    for i in range(2,n):\n",
    "        if(n%i == 0):\n",
    "            print(n,\"is not prime but composite number\")\n",
    "            break\n",
    "    else:\n",
    "        print(n,\"number is prime but not composite number\")\n",
    "else :\n",
    "    print(\"Please enter positive number only \")"
   ]
  },
  {
   "cell_type": "markdown",
   "id": "08c7d6f6",
   "metadata": {},
   "source": [
    "# 13. Write a python program to check whether a given string is palindrome or not.\n"
   ]
  },
  {
   "cell_type": "code",
   "execution_count": null,
   "id": "12c8b422",
   "metadata": {},
   "outputs": [],
   "source": [
    "number=input(\"Enter any number :\")\n",
    "rev=reversed(number)\n",
    "if list(number)==list(rev):\n",
    "    print('It is a palindrome')\n",
    "else:print('It is not a palindrome')"
   ]
  },
  {
   "cell_type": "markdown",
   "id": "351030c4",
   "metadata": {},
   "source": [
    "# 14. Write a Python program to get the third side of right-angled triangle from two given sides."
   ]
  },
  {
   "cell_type": "code",
   "execution_count": null,
   "id": "0b1dfe29",
   "metadata": {},
   "outputs": [],
   "source": [
    "import math\n",
    "\n",
    "a = float(input(\"Enter base: \"))\n",
    "b = float(input(\"Enter height: \"))\n",
    "x = float(input(\"Enter angle: \"))\n",
    "\n",
    "c = math.sqrt(a ** 2 + b ** 2)\n",
    "\n",
    "print(\"Hypotenuse =\", c)"
   ]
  },
  {
   "cell_type": "markdown",
   "id": "2e607e10",
   "metadata": {},
   "source": [
    "# 15. Write a python program to print the frequency of each of the characters present in a given string."
   ]
  },
  {
   "cell_type": "code",
   "execution_count": 6,
   "id": "8cd02c70",
   "metadata": {},
   "outputs": [
    {
     "name": "stdout",
     "output_type": "stream",
     "text": [
      "Enter the string: fgfguh0\n",
      "{'f': 2, 'g': 2, 'u': 1, 'h': 1, '0': 1}\n"
     ]
    }
   ],
   "source": [
    "str1 = input (\"Enter the string: \")\n",
    "d = dict()\n",
    "for c in str1:\n",
    "    if c in d:\n",
    "        d[c] = d[c] + 1\n",
    "    else:\n",
    "        d[c] = 1\n",
    "print(d)\n"
   ]
  },
  {
   "cell_type": "code",
   "execution_count": null,
   "id": "a48e375a",
   "metadata": {},
   "outputs": [],
   "source": []
  }
 ],
 "metadata": {
  "kernelspec": {
   "display_name": "Python 3",
   "language": "python",
   "name": "python3"
  },
  "language_info": {
   "codemirror_mode": {
    "name": "ipython",
    "version": 3
   },
   "file_extension": ".py",
   "mimetype": "text/x-python",
   "name": "python",
   "nbconvert_exporter": "python",
   "pygments_lexer": "ipython3",
   "version": "3.8.8"
  }
 },
 "nbformat": 4,
 "nbformat_minor": 5
}
