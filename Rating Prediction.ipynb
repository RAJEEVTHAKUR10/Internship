{
 "cells": [
  {
   "cell_type": "markdown",
   "id": "7965c10b",
   "metadata": {},
   "source": [
    "#  Rating Prediction"
   ]
  },
  {
   "cell_type": "code",
   "execution_count": 44,
   "id": "70a0599c",
   "metadata": {},
   "outputs": [],
   "source": [
    "# Importing libraries\n",
    "import pandas as pd\n",
    "import numpy as np\n",
    "import seaborn as sns\n",
    "import matplotlib.pyplot as plt\n",
    "import re\n",
    "import nltk\n",
    "from nltk.corpus import stopwords\n",
    "from nltk.corpus import wordnet\n",
    "from nltk.stem.wordnet import WordNetLemmatizer\n",
    "lemmatizer = nltk.stem.WordNetLemmatizer()\n",
    "from sklearn.ensemble import RandomForestClassifier\n",
    "from sklearn.linear_model import LogisticRegression\n",
    "from sklearn.linear_model import SGDClassifier\n",
    "from sklearn.naive_bayes import MultinomialNB\n",
    "from sklearn.model_selection import cross_val_score\n",
    "from sklearn.svm import SVC\n",
    "from scipy.sparse import hstack\n",
    "from scipy.stats import zscore\n",
    "from sklearn.feature_extraction.text import TfidfVectorizer\n",
    "from sklearn.metrics import f1_score, precision_score, confusion_matrix, accuracy_score, classification_report\n",
    "from sklearn.model_selection import train_test_split\n",
    "\n",
    "\n",
    "import warnings\n",
    "warnings.filterwarnings('ignore')"
   ]
  },
  {
   "cell_type": "code",
   "execution_count": 2,
   "id": "8cd26278",
   "metadata": {},
   "outputs": [
    {
     "data": {
      "text/html": [
       "<div>\n",
       "<style scoped>\n",
       "    .dataframe tbody tr th:only-of-type {\n",
       "        vertical-align: middle;\n",
       "    }\n",
       "\n",
       "    .dataframe tbody tr th {\n",
       "        vertical-align: top;\n",
       "    }\n",
       "\n",
       "    .dataframe thead th {\n",
       "        text-align: right;\n",
       "    }\n",
       "</style>\n",
       "<table border=\"1\" class=\"dataframe\">\n",
       "  <thead>\n",
       "    <tr style=\"text-align: right;\">\n",
       "      <th></th>\n",
       "      <th>Unnamed: 0</th>\n",
       "      <th>Review_title</th>\n",
       "      <th>Review_text</th>\n",
       "      <th>Ratings</th>\n",
       "    </tr>\n",
       "  </thead>\n",
       "  <tbody>\n",
       "    <tr>\n",
       "      <th>0</th>\n",
       "      <td>0</td>\n",
       "      <td>Suitable for School kids</td>\n",
       "      <td>\\n  If you are a College student or a professi...</td>\n",
       "      <td>2.0 out of 5 stars</td>\n",
       "    </tr>\n",
       "    <tr>\n",
       "      <th>1</th>\n",
       "      <td>1</td>\n",
       "      <td>Misrepresentation on MS Office 2019 license - ...</td>\n",
       "      <td>\\n  Update after one month usage - MS Office 2...</td>\n",
       "      <td>2.0 out of 5 stars</td>\n",
       "    </tr>\n",
       "    <tr>\n",
       "      <th>2</th>\n",
       "      <td>2</td>\n",
       "      <td>The sold me renewed laptop</td>\n",
       "      <td>\\n  It’s look like renewed laptop because lapt...</td>\n",
       "      <td>2.0 out of 5 stars</td>\n",
       "    </tr>\n",
       "    <tr>\n",
       "      <th>3</th>\n",
       "      <td>3</td>\n",
       "      <td>Amazon dupes with specification/ battery sucks</td>\n",
       "      <td>\\n  &amp;nbsp;I had seen the specifications and bo...</td>\n",
       "      <td>2.0 out of 5 stars</td>\n",
       "    </tr>\n",
       "    <tr>\n",
       "      <th>4</th>\n",
       "      <td>4</td>\n",
       "      <td>Display back light issue</td>\n",
       "      <td>\\n  Display gone with 2 months.. But anyway th...</td>\n",
       "      <td>2.0 out of 5 stars</td>\n",
       "    </tr>\n",
       "    <tr>\n",
       "      <th>5</th>\n",
       "      <td>5</td>\n",
       "      <td>Battery life</td>\n",
       "      <td>\\n  Battery backup give only one hour . What d...</td>\n",
       "      <td>2.0 out of 5 stars</td>\n",
       "    </tr>\n",
       "    <tr>\n",
       "      <th>6</th>\n",
       "      <td>6</td>\n",
       "      <td>No for professional works</td>\n",
       "      <td>\\n  Blue screen while power on the linux Opera...</td>\n",
       "      <td>2.0 out of 5 stars</td>\n",
       "    </tr>\n",
       "    <tr>\n",
       "      <th>7</th>\n",
       "      <td>7</td>\n",
       "      <td>monitor power issue</td>\n",
       "      <td>\\n  monitor is not turning on from 2 weeks of ...</td>\n",
       "      <td>2.0 out of 5 stars</td>\n",
       "    </tr>\n",
       "    <tr>\n",
       "      <th>8</th>\n",
       "      <td>8</td>\n",
       "      <td>waste</td>\n",
       "      <td>\\n  waste of money sometimes screen was marks\\n</td>\n",
       "      <td>2.0 out of 5 stars</td>\n",
       "    </tr>\n",
       "    <tr>\n",
       "      <th>9</th>\n",
       "      <td>9</td>\n",
       "      <td>Not able to download warranty card</td>\n",
       "      <td>\\n  Good\\n</td>\n",
       "      <td>2.0 out of 5 stars</td>\n",
       "    </tr>\n",
       "  </tbody>\n",
       "</table>\n",
       "</div>"
      ],
      "text/plain": [
       "   Unnamed: 0                                       Review_title  \\\n",
       "0           0                           Suitable for School kids   \n",
       "1           1  Misrepresentation on MS Office 2019 license - ...   \n",
       "2           2                         The sold me renewed laptop   \n",
       "3           3     Amazon dupes with specification/ battery sucks   \n",
       "4           4                           Display back light issue   \n",
       "5           5                                       Battery life   \n",
       "6           6                          No for professional works   \n",
       "7           7                                monitor power issue   \n",
       "8           8                                              waste   \n",
       "9           9                 Not able to download warranty card   \n",
       "\n",
       "                                         Review_text             Ratings  \n",
       "0  \\n  If you are a College student or a professi...  2.0 out of 5 stars  \n",
       "1  \\n  Update after one month usage - MS Office 2...  2.0 out of 5 stars  \n",
       "2  \\n  It’s look like renewed laptop because lapt...  2.0 out of 5 stars  \n",
       "3  \\n  &nbsp;I had seen the specifications and bo...  2.0 out of 5 stars  \n",
       "4  \\n  Display gone with 2 months.. But anyway th...  2.0 out of 5 stars  \n",
       "5  \\n  Battery backup give only one hour . What d...  2.0 out of 5 stars  \n",
       "6  \\n  Blue screen while power on the linux Opera...  2.0 out of 5 stars  \n",
       "7  \\n  monitor is not turning on from 2 weeks of ...  2.0 out of 5 stars  \n",
       "8    \\n  waste of money sometimes screen was marks\\n  2.0 out of 5 stars  \n",
       "9                                         \\n  Good\\n  2.0 out of 5 stars  "
      ]
     },
     "execution_count": 2,
     "metadata": {},
     "output_type": "execute_result"
    }
   ],
   "source": [
    "# loading the dataset\n",
    "\n",
    "df = pd.read_csv(\"Review_Rating_Datafile.csv\")\n",
    "df.head(10)"
   ]
  },
  {
   "cell_type": "code",
   "execution_count": 3,
   "id": "715067a2",
   "metadata": {},
   "outputs": [],
   "source": [
    "# Drop unnecessary column\n",
    "df.drop(columns = 'Unnamed: 0', inplace = True)"
   ]
  },
  {
   "cell_type": "code",
   "execution_count": 4,
   "id": "bb801959",
   "metadata": {},
   "outputs": [
    {
     "data": {
      "text/plain": [
       "(20000, 3)"
      ]
     },
     "execution_count": 4,
     "metadata": {},
     "output_type": "execute_result"
    }
   ],
   "source": [
    "# Rows and Columns\n",
    "df.shape"
   ]
  },
  {
   "cell_type": "code",
   "execution_count": 5,
   "id": "c9a7e33b",
   "metadata": {},
   "outputs": [
    {
     "data": {
      "text/plain": [
       "Review_title    3574\n",
       "Review_text     3277\n",
       "Ratings         3573\n",
       "dtype: int64"
      ]
     },
     "execution_count": 5,
     "metadata": {},
     "output_type": "execute_result"
    }
   ],
   "source": [
    "# Checking the null values in the dataset\n",
    "df.isnull().sum()"
   ]
  },
  {
   "cell_type": "code",
   "execution_count": 6,
   "id": "764590dd",
   "metadata": {},
   "outputs": [],
   "source": [
    "# Drop the null values\n",
    "df.dropna(inplace=True)"
   ]
  },
  {
   "cell_type": "code",
   "execution_count": 7,
   "id": "a5b4fd26",
   "metadata": {},
   "outputs": [
    {
     "data": {
      "text/plain": [
       "<AxesSubplot:>"
      ]
     },
     "execution_count": 7,
     "metadata": {},
     "output_type": "execute_result"
    },
    {
     "data": {
      "image/png": "[encoded data removed]",
      "text/plain": [
       "<Figure size 432x288 with 2 Axes>"
      ]
     },
     "metadata": {
      "needs_background": "light"
     },
     "output_type": "display_data"
    }
   ],
   "source": [
    "# Visualization for null values\n",
    "sns.heatmap(df.isnull())"
   ]
  },
  {
   "cell_type": "code",
   "execution_count": 8,
   "id": "285c8d49",
   "metadata": {},
   "outputs": [
    {
     "data": {
      "text/plain": [
       "(16345, 3)"
      ]
     },
     "execution_count": 8,
     "metadata": {},
     "output_type": "execute_result"
    }
   ],
   "source": [
    "\n",
    "df.shape"
   ]
  },
  {
   "cell_type": "code",
   "execution_count": 9,
   "id": "a30f57cc",
   "metadata": {},
   "outputs": [
    {
     "name": "stdout",
     "output_type": "stream",
     "text": [
      "<class 'pandas.core.frame.DataFrame'>\n",
      "Int64Index: 16345 entries, 0 to 19999\n",
      "Data columns (total 3 columns):\n",
      " #   Column        Non-Null Count  Dtype \n",
      "---  ------        --------------  ----- \n",
      " 0   Review_title  16345 non-null  object\n",
      " 1   Review_text   16345 non-null  object\n",
      " 2   Ratings       16345 non-null  object\n",
      "dtypes: object(3)\n",
      "memory usage: 510.8+ KB\n"
     ]
    }
   ],
   "source": [
    "# data information\n",
    "df.info()"
   ]
  },
  {
   "cell_type": "code",
   "execution_count": 10,
   "id": "8f19da76",
   "metadata": {},
   "outputs": [
    {
     "data": {
      "text/plain": [
       "Index(['Review_title', 'Review_text', 'Ratings'], dtype='object')"
      ]
     },
     "execution_count": 10,
     "metadata": {},
     "output_type": "execute_result"
    }
   ],
   "source": [
    "# checking the columns name\n",
    "df.columns"
   ]
  },
  {
   "cell_type": "code",
   "execution_count": 11,
   "id": "02631ca2",
   "metadata": {},
   "outputs": [
    {
     "data": {
      "text/plain": [
       "array(['2.0 out of 5 stars', '3.0 out of 5 stars', '1.0 out of 5 stars',\n",
       "       '5.0 out of 5 stars', '4.0 out of 5 stars'], dtype=object)"
      ]
     },
     "execution_count": 11,
     "metadata": {},
     "output_type": "execute_result"
    }
   ],
   "source": [
    "# checking the unique values \n",
    "df['Ratings'].unique()"
   ]
  },
  {
   "cell_type": "code",
   "execution_count": 12,
   "id": "e5da6021",
   "metadata": {},
   "outputs": [
    {
     "data": {
      "text/plain": [
       "array([2, 3, 1, 5, 4])"
      ]
     },
     "execution_count": 12,
     "metadata": {},
     "output_type": "execute_result"
    }
   ],
   "source": [
    "\n",
    "df['Ratings'] = df['Ratings'].replace('1.0 out of 5 stars',1)\n",
    "df['Ratings'] = df['Ratings'].replace('2.0 out of 5 stars',2)\n",
    "df['Ratings'] = df['Ratings'].replace('3.0 out of 5 stars',3)\n",
    "df['Ratings'] = df['Ratings'].replace('4.0 out of 5 stars',4)\n",
    "df['Ratings'] = df['Ratings'].replace('5.0 out of 5 stars',5)\n",
    "df['Ratings'] = df['Ratings'].astype('int')\n",
    "df['Ratings'].unique()"
   ]
  },
  {
   "cell_type": "code",
   "execution_count": 13,
   "id": "88871119",
   "metadata": {},
   "outputs": [
    {
     "data": {
      "text/html": [
       "<div>\n",
       "<style scoped>\n",
       "    .dataframe tbody tr th:only-of-type {\n",
       "        vertical-align: middle;\n",
       "    }\n",
       "\n",
       "    .dataframe tbody tr th {\n",
       "        vertical-align: top;\n",
       "    }\n",
       "\n",
       "    .dataframe thead th {\n",
       "        text-align: right;\n",
       "    }\n",
       "</style>\n",
       "<table border=\"1\" class=\"dataframe\">\n",
       "  <thead>\n",
       "    <tr style=\"text-align: right;\">\n",
       "      <th></th>\n",
       "      <th>Review_title</th>\n",
       "      <th>Review_text</th>\n",
       "      <th>Ratings</th>\n",
       "      <th>Review</th>\n",
       "    </tr>\n",
       "  </thead>\n",
       "  <tbody>\n",
       "    <tr>\n",
       "      <th>0</th>\n",
       "      <td>Suitable for School kids</td>\n",
       "      <td>\\n  If you are a College student or a professi...</td>\n",
       "      <td>2</td>\n",
       "      <td>Suitable for School kids \\n  If you are a Coll...</td>\n",
       "    </tr>\n",
       "    <tr>\n",
       "      <th>1</th>\n",
       "      <td>Misrepresentation on MS Office 2019 license - ...</td>\n",
       "      <td>\\n  Update after one month usage - MS Office 2...</td>\n",
       "      <td>2</td>\n",
       "      <td>Misrepresentation on MS Office 2019 license - ...</td>\n",
       "    </tr>\n",
       "    <tr>\n",
       "      <th>2</th>\n",
       "      <td>The sold me renewed laptop</td>\n",
       "      <td>\\n  It’s look like renewed laptop because lapt...</td>\n",
       "      <td>2</td>\n",
       "      <td>The sold me renewed laptop \\n  It’s look like ...</td>\n",
       "    </tr>\n",
       "    <tr>\n",
       "      <th>3</th>\n",
       "      <td>Amazon dupes with specification/ battery sucks</td>\n",
       "      <td>\\n  &amp;nbsp;I had seen the specifications and bo...</td>\n",
       "      <td>2</td>\n",
       "      <td>Amazon dupes with specification/ battery sucks...</td>\n",
       "    </tr>\n",
       "    <tr>\n",
       "      <th>4</th>\n",
       "      <td>Display back light issue</td>\n",
       "      <td>\\n  Display gone with 2 months.. But anyway th...</td>\n",
       "      <td>2</td>\n",
       "      <td>Display back light issue \\n  Display gone with...</td>\n",
       "    </tr>\n",
       "    <tr>\n",
       "      <th>...</th>\n",
       "      <td>...</td>\n",
       "      <td>...</td>\n",
       "      <td>...</td>\n",
       "      <td>...</td>\n",
       "    </tr>\n",
       "    <tr>\n",
       "      <th>19995</th>\n",
       "      <td>Z thunder is now connected 😂😂😂</td>\n",
       "      <td>\\n  Too good ... I'm satisfied with this produ...</td>\n",
       "      <td>5</td>\n",
       "      <td>Z thunder is now connected 😂😂😂 \\n  Too good .....</td>\n",
       "    </tr>\n",
       "    <tr>\n",
       "      <th>19996</th>\n",
       "      <td>Nice headphone</td>\n",
       "      <td>\\n  Overall a very good headphone in this pric...</td>\n",
       "      <td>5</td>\n",
       "      <td>Nice headphone \\n  Overall a very good headpho...</td>\n",
       "    </tr>\n",
       "    <tr>\n",
       "      <th>19997</th>\n",
       "      <td>My Experience</td>\n",
       "      <td>\\n  This product is the best at this price, If...</td>\n",
       "      <td>5</td>\n",
       "      <td>My Experience \\n  This product is the best at ...</td>\n",
       "    </tr>\n",
       "    <tr>\n",
       "      <th>19998</th>\n",
       "      <td>Product that's worth the money.</td>\n",
       "      <td>\\n  It's a decent brand. Till now it's working...</td>\n",
       "      <td>5</td>\n",
       "      <td>Product that's worth the money. \\n  It's a dec...</td>\n",
       "    </tr>\n",
       "    <tr>\n",
       "      <th>19999</th>\n",
       "      <td>Wise Purchase..</td>\n",
       "      <td>\\n  Battery backup good&lt;br&gt;Sound is clear&lt;br&gt;C...</td>\n",
       "      <td>5</td>\n",
       "      <td>Wise Purchase.. \\n  Battery backup good&lt;br&gt;Sou...</td>\n",
       "    </tr>\n",
       "  </tbody>\n",
       "</table>\n",
       "<p>16345 rows × 4 columns</p>\n",
       "</div>"
      ],
      "text/plain": [
       "                                            Review_title  \\\n",
       "0                               Suitable for School kids   \n",
       "1      Misrepresentation on MS Office 2019 license - ...   \n",
       "2                             The sold me renewed laptop   \n",
       "3         Amazon dupes with specification/ battery sucks   \n",
       "4                               Display back light issue   \n",
       "...                                                  ...   \n",
       "19995                     Z thunder is now connected 😂😂😂   \n",
       "19996                                     Nice headphone   \n",
       "19997                                      My Experience   \n",
       "19998                    Product that's worth the money.   \n",
       "19999                                    Wise Purchase..   \n",
       "\n",
       "                                             Review_text  Ratings  \\\n",
       "0      \\n  If you are a College student or a professi...        2   \n",
       "1      \\n  Update after one month usage - MS Office 2...        2   \n",
       "2      \\n  It’s look like renewed laptop because lapt...        2   \n",
       "3      \\n  &nbsp;I had seen the specifications and bo...        2   \n",
       "4      \\n  Display gone with 2 months.. But anyway th...        2   \n",
       "...                                                  ...      ...   \n",
       "19995  \\n  Too good ... I'm satisfied with this produ...        5   \n",
       "19996  \\n  Overall a very good headphone in this pric...        5   \n",
       "19997  \\n  This product is the best at this price, If...        5   \n",
       "19998  \\n  It's a decent brand. Till now it's working...        5   \n",
       "19999  \\n  Battery backup good<br>Sound is clear<br>C...        5   \n",
       "\n",
       "                                                  Review  \n",
       "0      Suitable for School kids \\n  If you are a Coll...  \n",
       "1      Misrepresentation on MS Office 2019 license - ...  \n",
       "2      The sold me renewed laptop \\n  It’s look like ...  \n",
       "3      Amazon dupes with specification/ battery sucks...  \n",
       "4      Display back light issue \\n  Display gone with...  \n",
       "...                                                  ...  \n",
       "19995  Z thunder is now connected 😂😂😂 \\n  Too good .....  \n",
       "19996  Nice headphone \\n  Overall a very good headpho...  \n",
       "19997  My Experience \\n  This product is the best at ...  \n",
       "19998  Product that's worth the money. \\n  It's a dec...  \n",
       "19999  Wise Purchase.. \\n  Battery backup good<br>Sou...  \n",
       "\n",
       "[16345 rows x 4 columns]"
      ]
     },
     "execution_count": 13,
     "metadata": {},
     "output_type": "execute_result"
    }
   ],
   "source": [
    "#\"Review_title\" and \"Review_text\" columns into one single column \n",
    "df['Review'] = df['Review_title'].map(str)+' '+df['Review_text']\n",
    "df"
   ]
  },
  {
   "cell_type": "code",
   "execution_count": 14,
   "id": "49cfa98b",
   "metadata": {},
   "outputs": [
    {
     "data": {
      "text/plain": [
       "'Suitable for School kids \\n  If you are a College student or a professional who depends heavily on laptop for pretty much everyday then  this laptop is not for you. It hangs more often than it runs. Cannot install essential computer science software such as Eclipse or android studio because then this laptop just dies.<br><br>I took this laptop thinking that it will have good performance based on its configuration.<br><br>But if you are someone who wants to attend online classes or just browse, then you may go for this laptop.\\n'"
      ]
     },
     "execution_count": 14,
     "metadata": {},
     "output_type": "execute_result"
    }
   ],
   "source": [
    "df['Review'][0]"
   ]
  },
  {
   "cell_type": "code",
   "execution_count": 15,
   "id": "a614d208",
   "metadata": {},
   "outputs": [
    {
     "data": {
      "text/plain": [
       "'Misrepresentation on MS Office 2019 license - it is one month trial \\n  Update after one month usage - MS Office 2019 preinstalled edition became unlicensed version within 30 days and refused to activate. HP support shared their product sheet that stated that this laptop came only with a trial version of MS Office 2019. Now I am chasing seller Appario Retail to honour the commitment.<br><br>Bad experience after paying high price (around ₹67,000) for preinstalled genuine software.<br><br>Other wise product has sleek looks, superfast fingerprint scanner, very good display, very responsive touchpad, decent (but tinny) speakers, USB C and barrel plug charging options and under 10 second boot up (SSD drive). Preloaded with Win10 Home and MS Office (not sure whether trial or full version). Drawbacks - weighs 1.42 kg, base gets warm rather quickly and so does the power adapter. Decent for a college student.\\n'"
      ]
     },
     "execution_count": 15,
     "metadata": {},
     "output_type": "execute_result"
    }
   ],
   "source": [
    "df['Review'][1]"
   ]
  },
  {
   "cell_type": "code",
   "execution_count": 16,
   "id": "dfa85ed8",
   "metadata": {},
   "outputs": [
    {
     "data": {
      "text/plain": [
       "'The sold me renewed laptop \\n  It’s look like renewed laptop because laptop charging jack is loose and left side speaker sounds like it’s tear. Bad sound quality  and finger sensor quality look like 2011 touch phone of wing and any Chinese phone touch. Waste of money and one more thing day by day Amazon product quality getting poor\\n'"
      ]
     },
     "execution_count": 16,
     "metadata": {},
     "output_type": "execute_result"
    }
   ],
   "source": [
    "df['Review'][2]"
   ]
  },
  {
   "cell_type": "code",
   "execution_count": 17,
   "id": "55a79d87",
   "metadata": {},
   "outputs": [],
   "source": [
    "# change in full meaning words\n",
    "\n",
    "def decontracted(text):\n",
    "    text = re.sub(r\"won't\", \"will not\", text)\n",
    "    text = re.sub(r\"don’t\", \"do not\", text)\n",
    "    text = re.sub(r\"can't\", \"can not\", text)\n",
    "    text = re.sub(r\"im \", \"i am\", text)\n",
    "    text = re.sub(r\"yo \", \"you \",text)\n",
    "    text = re.sub(r\"doesn’t\", \"does not\",text)\n",
    "    text = re.sub(r\"n\\'t\", \" not\", text)\n",
    "    text = re.sub(r\"\\'re\", \" are\", text)\n",
    "    text = re.sub(r\"\\'s\", \" is\", text)\n",
    "    text = re.sub(r\"\\'d\", \" would\", text)\n",
    "    text = re.sub(r\"\\'ll\", \" will\", text)\n",
    "    text = re.sub(r\"\\'t\", \" not\", text)\n",
    "    text = re.sub(r\"\\'ve\", \" have\", text)\n",
    "    text = re.sub(r\"\\'m\", \" am\", text)\n",
    "    text = re.sub(r\"<br>\", \" \", text)\n",
    "    text = re.sub(r'http\\S+', '', text) #removing urls\n",
    "    return text\n",
    "\n",
    "# Lowercasing the alphabets\n",
    "df['Review'] = df['Review'].apply(lambda x : x.lower())\n",
    "df['Review'] = df['Review'].apply(lambda x : decontracted(x))\n",
    "\n",
    "# Removing punctuations from the review\n",
    "df['Review'] = df['Review'].str.replace('[^\\w\\s]','')\n",
    "df['Review'] = df['Review'].str.replace('\\n',' ')"
   ]
  },
  {
   "cell_type": "code",
   "execution_count": 18,
   "id": "c1a3c75f",
   "metadata": {},
   "outputs": [],
   "source": [
    "# Removing all the stopwords\n",
    "stop = stopwords.words('english')\n",
    "df['Review'] = df['Review'].apply(lambda x: ' '.join([word for word in x.split() if word not in (stop)]))"
   ]
  },
  {
   "cell_type": "code",
   "execution_count": 19,
   "id": "ddc14f7c",
   "metadata": {},
   "outputs": [
    {
     "data": {
      "text/plain": [
       "'suitable school kids college student professional depends heavily laptop pretty much everyday laptop hangs often runs cannot install essential computer science software eclipse android studio laptop dies took laptop thinking good performance based configuration someone wants attend online classes browse may go laptop'"
      ]
     },
     "execution_count": 19,
     "metadata": {},
     "output_type": "execute_result"
    }
   ],
   "source": [
    "df['Review'][0]"
   ]
  },
  {
   "cell_type": "code",
   "execution_count": 20,
   "id": "1ef5170c",
   "metadata": {},
   "outputs": [
    {
     "data": {
      "text/plain": [
       "'misrepresentation ms office 2019 license one month trial update one month usage ms office 2019 preinstalled edition became unlicensed version within 30 days refused activate hp support shared product sheet stated laptop came trial version ms office 2019 chasing seller appario retail honour commitment bad experience paying high price around 67000 preinstalled genuine software wise product sleek looks superfast fingerprint scanner good display responsive touchpad decent tinny speakers usb c barrel plug charging options 10 second boot ssd drive preloaded win10 home ms office sure whether trial full version drawbacks weighs 142 kg base gets warm rather quickly power adapter decent college student'"
      ]
     },
     "execution_count": 20,
     "metadata": {},
     "output_type": "execute_result"
    }
   ],
   "source": [
    "df['Review'][1]"
   ]
  },
  {
   "cell_type": "code",
   "execution_count": 21,
   "id": "aa492532",
   "metadata": {},
   "outputs": [
    {
     "data": {
      "text/plain": [
       "'sold renewed laptop look like renewed laptop laptop charging jack loose left side speaker sounds like tear bad sound quality finger sensor quality look like 2011 touch phone wing chinese phone touch waste money one thing day day amazon product quality getting poor'"
      ]
     },
     "execution_count": 21,
     "metadata": {},
     "output_type": "execute_result"
    }
   ],
   "source": [
    "df['Review'][2]"
   ]
  },
  {
   "cell_type": "code",
   "execution_count": 22,
   "id": "2a1936cb",
   "metadata": {},
   "outputs": [],
   "source": [
    "# Defining functiom to convert nltk tag to wordnet tags\n",
    "def nltk_tag_to_wordnet_tag(nltk_tag):\n",
    "    if nltk_tag.startswith('J'):\n",
    "        return wordnet.ADJ\n",
    "    elif nltk_tag.startswith('V'):\n",
    "        return wordnet.VERB\n",
    "    elif nltk_tag.startswith('N'):\n",
    "        return wordnet.NOUN\n",
    "    elif nltk_tag.startswith('R'):\n",
    "        return wordnet.ADV\n",
    "    else:\n",
    "        return None\n",
    "    \n",
    "# Defining function to lemmatize our text\n",
    "def lemmatize_sentence(sentence):\n",
    "    # tokenize the sentence and find the pos_tag\n",
    "    nltk_tagged = nltk.pos_tag(nltk.word_tokenize(sentence))\n",
    "    # tuple of (token, wordnet_tag)\n",
    "    wordnet_tagged = map(lambda x : (x[0], nltk_tag_to_wordnet_tag(x[1])), nltk_tagged)\n",
    "    lemmatize_sentence = []\n",
    "    for word, tag in wordnet_tagged:\n",
    "        if tag is None:\n",
    "            lemmatize_sentence.append(word)\n",
    "        else:\n",
    "            lemmatize_sentence.append(lemmatizer.lemmatize(word,tag))\n",
    "    return \" \".join(lemmatize_sentence)    \n",
    "\n",
    "df['Review'] = df['Review'].apply(lambda x : lemmatize_sentence(x))"
   ]
  },
  {
   "cell_type": "code",
   "execution_count": 23,
   "id": "e68cf5fb",
   "metadata": {},
   "outputs": [
    {
     "data": {
      "text/plain": [
       "'suitable school kid college student professional depend heavily laptop pretty much everyday laptop hang often run can not install essential computer science software eclipse android studio laptop dy take laptop thinking good performance base configuration someone want attend online class browse may go laptop'"
      ]
     },
     "execution_count": 23,
     "metadata": {},
     "output_type": "execute_result"
    }
   ],
   "source": [
    "df['Review'][0]"
   ]
  },
  {
   "cell_type": "code",
   "execution_count": 24,
   "id": "43426aa6",
   "metadata": {},
   "outputs": [
    {
     "data": {
      "text/plain": [
       "'misrepresentation m office 2019 license one month trial update one month usage m office 2019 preinstalled edition become unlicensed version within 30 day refuse activate hp support share product sheet state laptop come trial version m office 2019 chase seller appario retail honour commitment bad experience pay high price around 67000 preinstalled genuine software wise product sleek look superfast fingerprint scanner good display responsive touchpad decent tinny speaker usb c barrel plug charge option 10 second boot ssd drive preloaded win10 home m office sure whether trial full version drawback weigh 142 kg base get warm rather quickly power adapter decent college student'"
      ]
     },
     "execution_count": 24,
     "metadata": {},
     "output_type": "execute_result"
    }
   ],
   "source": [
    "df['Review'][1]"
   ]
  },
  {
   "cell_type": "code",
   "execution_count": 25,
   "id": "893ebebd",
   "metadata": {},
   "outputs": [
    {
     "data": {
      "text/plain": [
       "'sell renew laptop look like renew laptop laptop charge jack loose leave side speaker sound like tear bad sound quality finger sensor quality look like 2011 touch phone wing chinese phone touch waste money one thing day day amazon product quality get poor'"
      ]
     },
     "execution_count": 25,
     "metadata": {},
     "output_type": "execute_result"
    }
   ],
   "source": [
    "df['Review'][2]"
   ]
  },
  {
   "cell_type": "code",
   "execution_count": 26,
   "id": "8a2242d0",
   "metadata": {},
   "outputs": [],
   "source": [
    "# Noise removal function\n",
    "def scrub_words(text):\n",
    "    # remove HTML markup\n",
    "    text = re.sub(\"(<.*?>)\", \"\", text)\n",
    "    # remove non-ascii and digits\n",
    "    text = re.sub(\"(\\\\W)\", \" \", text)\n",
    "    text = re.sub(\"(\\\\d)\", \"\", text)\n",
    "    # remove white space\n",
    "    text = text.strip()\n",
    "    return text\n",
    "\n",
    "df['Review'] = df['Review'].apply(lambda x : scrub_words(x))"
   ]
  },
  {
   "cell_type": "code",
   "execution_count": 27,
   "id": "d84dbed1",
   "metadata": {},
   "outputs": [
    {
     "data": {
      "text/plain": [
       "'suitable school kid college student professional depend heavily laptop pretty much everyday laptop hang often run can not install essential computer science software eclipse android studio laptop dy take laptop thinking good performance base configuration someone want attend online class browse may go laptop'"
      ]
     },
     "execution_count": 27,
     "metadata": {},
     "output_type": "execute_result"
    }
   ],
   "source": [
    "df['Review'][0]"
   ]
  },
  {
   "cell_type": "code",
   "execution_count": 28,
   "id": "ddf55b7e",
   "metadata": {},
   "outputs": [
    {
     "data": {
      "text/plain": [
       "'misrepresentation m office  license one month trial update one month usage m office  preinstalled edition become unlicensed version within  day refuse activate hp support share product sheet state laptop come trial version m office  chase seller appario retail honour commitment bad experience pay high price around  preinstalled genuine software wise product sleek look superfast fingerprint scanner good display responsive touchpad decent tinny speaker usb c barrel plug charge option  second boot ssd drive preloaded win home m office sure whether trial full version drawback weigh  kg base get warm rather quickly power adapter decent college student'"
      ]
     },
     "execution_count": 28,
     "metadata": {},
     "output_type": "execute_result"
    }
   ],
   "source": [
    "df['Review'][1]"
   ]
  },
  {
   "cell_type": "code",
   "execution_count": 29,
   "id": "5b9f8b08",
   "metadata": {},
   "outputs": [
    {
     "data": {
      "text/plain": [
       "'sell renew laptop look like renew laptop laptop charge jack loose leave side speaker sound like tear bad sound quality finger sensor quality look like  touch phone wing chinese phone touch waste money one thing day day amazon product quality get poor'"
      ]
     },
     "execution_count": 29,
     "metadata": {},
     "output_type": "execute_result"
    }
   ],
   "source": [
    "df['Review'][2]"
   ]
  },
  {
   "cell_type": "code",
   "execution_count": 30,
   "id": "4d908580",
   "metadata": {},
   "outputs": [
    {
     "data": {
      "text/html": [
       "<div>\n",
       "<style scoped>\n",
       "    .dataframe tbody tr th:only-of-type {\n",
       "        vertical-align: middle;\n",
       "    }\n",
       "\n",
       "    .dataframe tbody tr th {\n",
       "        vertical-align: top;\n",
       "    }\n",
       "\n",
       "    .dataframe thead th {\n",
       "        text-align: right;\n",
       "    }\n",
       "</style>\n",
       "<table border=\"1\" class=\"dataframe\">\n",
       "  <thead>\n",
       "    <tr style=\"text-align: right;\">\n",
       "      <th></th>\n",
       "      <th>Review_WC</th>\n",
       "      <th>Review</th>\n",
       "    </tr>\n",
       "  </thead>\n",
       "  <tbody>\n",
       "    <tr>\n",
       "      <th>0</th>\n",
       "      <td>44</td>\n",
       "      <td>suitable school kid college student profession...</td>\n",
       "    </tr>\n",
       "    <tr>\n",
       "      <th>1</th>\n",
       "      <td>103</td>\n",
       "      <td>misrepresentation m office  license one month ...</td>\n",
       "    </tr>\n",
       "    <tr>\n",
       "      <th>2</th>\n",
       "      <td>43</td>\n",
       "      <td>sell renew laptop look like renew laptop lapto...</td>\n",
       "    </tr>\n",
       "    <tr>\n",
       "      <th>3</th>\n",
       "      <td>21</td>\n",
       "      <td>amazon dupe specification battery suck nbspi s...</td>\n",
       "    </tr>\n",
       "    <tr>\n",
       "      <th>4</th>\n",
       "      <td>16</td>\n",
       "      <td>display back light issue display go  month any...</td>\n",
       "    </tr>\n",
       "    <tr>\n",
       "      <th>5</th>\n",
       "      <td>7</td>\n",
       "      <td>battery life battery backup give one hour</td>\n",
       "    </tr>\n",
       "    <tr>\n",
       "      <th>6</th>\n",
       "      <td>18</td>\n",
       "      <td>professional work blue screen power linux oper...</td>\n",
       "    </tr>\n",
       "    <tr>\n",
       "      <th>7</th>\n",
       "      <td>8</td>\n",
       "      <td>monitor power issue monitor turn  week purchase</td>\n",
       "    </tr>\n",
       "    <tr>\n",
       "      <th>8</th>\n",
       "      <td>6</td>\n",
       "      <td>waste waste money sometimes screen mark</td>\n",
       "    </tr>\n",
       "    <tr>\n",
       "      <th>9</th>\n",
       "      <td>5</td>\n",
       "      <td>able download warranty card good</td>\n",
       "    </tr>\n",
       "  </tbody>\n",
       "</table>\n",
       "</div>"
      ],
      "text/plain": [
       "   Review_WC                                             Review\n",
       "0         44  suitable school kid college student profession...\n",
       "1        103  misrepresentation m office  license one month ...\n",
       "2         43  sell renew laptop look like renew laptop lapto...\n",
       "3         21  amazon dupe specification battery suck nbspi s...\n",
       "4         16  display back light issue display go  month any...\n",
       "5          7          battery life battery backup give one hour\n",
       "6         18  professional work blue screen power linux oper...\n",
       "7          8    monitor power issue monitor turn  week purchase\n",
       "8          6            waste waste money sometimes screen mark\n",
       "9          5                   able download warranty card good"
      ]
     },
     "execution_count": 30,
     "metadata": {},
     "output_type": "execute_result"
    }
   ],
   "source": [
    "# Creating column for word counts in the review text\n",
    "df['Review_WC'] = df['Review'].apply(lambda x: len(str(x).split(' ')))\n",
    "df[['Review_WC', 'Review']].head(10)"
   ]
  },
  {
   "cell_type": "code",
   "execution_count": 31,
   "id": "af682c27",
   "metadata": {},
   "outputs": [
    {
     "data": {
      "image/png": "[encoded data removed]",
      "text/plain": [
       "<Figure size 720x504 with 1 Axes>"
      ]
     },
     "metadata": {
      "needs_background": "light"
     },
     "output_type": "display_data"
    }
   ],
   "source": [
    "# Density plot and histogram of all word count\n",
    "plt.figure(figsize=(10,7))\n",
    "sns.distplot(df['Review_WC'], hist = True, kde = True,\n",
    "            bins = int(180/5), color = 'darkblue',\n",
    "            hist_kws = {'edgecolor':'black'},\n",
    "            kde_kws = {'linewidth':4})\n",
    "plt.show()"
   ]
  },
  {
   "cell_type": "code",
   "execution_count": 32,
   "id": "2e4fa23a",
   "metadata": {},
   "outputs": [
    {
     "data": {
      "text/html": [
       "<div>\n",
       "<style scoped>\n",
       "    .dataframe tbody tr th:only-of-type {\n",
       "        vertical-align: middle;\n",
       "    }\n",
       "\n",
       "    .dataframe tbody tr th {\n",
       "        vertical-align: top;\n",
       "    }\n",
       "\n",
       "    .dataframe thead th {\n",
       "        text-align: right;\n",
       "    }\n",
       "</style>\n",
       "<table border=\"1\" class=\"dataframe\">\n",
       "  <thead>\n",
       "    <tr style=\"text-align: right;\">\n",
       "      <th></th>\n",
       "      <th>Review_CC</th>\n",
       "      <th>Review</th>\n",
       "    </tr>\n",
       "  </thead>\n",
       "  <tbody>\n",
       "    <tr>\n",
       "      <th>0</th>\n",
       "      <td>309</td>\n",
       "      <td>suitable school kid college student profession...</td>\n",
       "    </tr>\n",
       "    <tr>\n",
       "      <th>1</th>\n",
       "      <td>654</td>\n",
       "      <td>misrepresentation m office  license one month ...</td>\n",
       "    </tr>\n",
       "    <tr>\n",
       "      <th>2</th>\n",
       "      <td>250</td>\n",
       "      <td>sell renew laptop look like renew laptop lapto...</td>\n",
       "    </tr>\n",
       "    <tr>\n",
       "      <th>3</th>\n",
       "      <td>126</td>\n",
       "      <td>amazon dupe specification battery suck nbspi s...</td>\n",
       "    </tr>\n",
       "    <tr>\n",
       "      <th>4</th>\n",
       "      <td>102</td>\n",
       "      <td>display back light issue display go  month any...</td>\n",
       "    </tr>\n",
       "    <tr>\n",
       "      <th>5</th>\n",
       "      <td>41</td>\n",
       "      <td>battery life battery backup give one hour</td>\n",
       "    </tr>\n",
       "    <tr>\n",
       "      <th>6</th>\n",
       "      <td>125</td>\n",
       "      <td>professional work blue screen power linux oper...</td>\n",
       "    </tr>\n",
       "    <tr>\n",
       "      <th>7</th>\n",
       "      <td>47</td>\n",
       "      <td>monitor power issue monitor turn  week purchase</td>\n",
       "    </tr>\n",
       "    <tr>\n",
       "      <th>8</th>\n",
       "      <td>39</td>\n",
       "      <td>waste waste money sometimes screen mark</td>\n",
       "    </tr>\n",
       "    <tr>\n",
       "      <th>9</th>\n",
       "      <td>32</td>\n",
       "      <td>able download warranty card good</td>\n",
       "    </tr>\n",
       "  </tbody>\n",
       "</table>\n",
       "</div>"
      ],
      "text/plain": [
       "   Review_CC                                             Review\n",
       "0        309  suitable school kid college student profession...\n",
       "1        654  misrepresentation m office  license one month ...\n",
       "2        250  sell renew laptop look like renew laptop lapto...\n",
       "3        126  amazon dupe specification battery suck nbspi s...\n",
       "4        102  display back light issue display go  month any...\n",
       "5         41          battery life battery backup give one hour\n",
       "6        125  professional work blue screen power linux oper...\n",
       "7         47    monitor power issue monitor turn  week purchase\n",
       "8         39            waste waste money sometimes screen mark\n",
       "9         32                   able download warranty card good"
      ]
     },
     "execution_count": 32,
     "metadata": {},
     "output_type": "execute_result"
    }
   ],
   "source": [
    "# Creating column for character counts in the review text\n",
    "df['Review_CC'] = df['Review'].str.len()\n",
    "df[['Review_CC','Review']].head(10)"
   ]
  },
  {
   "cell_type": "code",
   "execution_count": 33,
   "id": "0194865f",
   "metadata": {},
   "outputs": [
    {
     "data": {
      "image/png": "[encoded data removed]",
      "text/plain": [
       "<Figure size 720x504 with 1 Axes>"
      ]
     },
     "metadata": {
      "needs_background": "light"
     },
     "output_type": "display_data"
    }
   ],
   "source": [
    "# Density plot and histogram of all character count\n",
    "plt.figure(figsize=(10,7))\n",
    "sns.distplot(df['Review_CC'], hist = True, kde = True,\n",
    "            bins = int(180/5), color = 'darkblue',\n",
    "            hist_kws = {'edgecolor':'black'},\n",
    "            kde_kws = {'linewidth':4})\n",
    "plt.show()\n"
   ]
  },
  {
   "cell_type": "code",
   "execution_count": 34,
   "id": "1d9edfe8",
   "metadata": {},
   "outputs": [],
   "source": [
    "# Applying zscore to remove outliers\n",
    "z_score = zscore(df[['Review_WC']])\n",
    "abs_z_score = np.abs(z_score)\n",
    "filtering_entry = (abs_z_score < 3).all(axis = 1)\n",
    "df = df[filtering_entry]"
   ]
  },
  {
   "cell_type": "code",
   "execution_count": 35,
   "id": "07acec79",
   "metadata": {},
   "outputs": [
    {
     "data": {
      "text/plain": [
       "(16058, 6)"
      ]
     },
     "execution_count": 35,
     "metadata": {},
     "output_type": "execute_result"
    }
   ],
   "source": [
    "df.shape"
   ]
  },
  {
   "cell_type": "code",
   "execution_count": 36,
   "id": "3f420e2f",
   "metadata": {},
   "outputs": [
    {
     "data": {
      "image/png": "[encoded data removed]",
      "text/plain": [
       "<Figure size 720x504 with 1 Axes>"
      ]
     },
     "metadata": {
      "needs_background": "light"
     },
     "output_type": "display_data"
    }
   ],
   "source": [
    "# Density plot and histogram of all word count\n",
    "plt.figure(figsize=(10,7))\n",
    "sns.distplot(df['Review_WC'], hist = True, kde = True,\n",
    "            bins = int(180/5), color = 'darkblue',\n",
    "            hist_kws = {'edgecolor':'black'},\n",
    "            kde_kws = {'linewidth':4})\n",
    "plt.show()\n"
   ]
  },
  {
   "cell_type": "code",
   "execution_count": 37,
   "id": "9fbfcaba",
   "metadata": {},
   "outputs": [
    {
     "name": "stdout",
     "output_type": "stream",
     "text": [
      "5    3716\n",
      "1    3514\n",
      "4    3152\n",
      "3    2923\n",
      "2    2753\n",
      "Name: Ratings, dtype: int64\n"
     ]
    },
    {
     "data": {
      "image/png": "[encoded data removed]",
      "text/plain": [
       "<Figure size 1080x504 with 1 Axes>"
      ]
     },
     "metadata": {
      "needs_background": "light"
     },
     "output_type": "display_data"
    }
   ],
   "source": [
    "# Checking the count of target column values\n",
    "plt.figure(figsize=(15,7))\n",
    "sns.countplot(df['Ratings'])\n",
    "print(df.Ratings.value_counts())\n",
    "plt.show()"
   ]
  },
  {
   "cell_type": "code",
   "execution_count": 38,
   "id": "a72abd78",
   "metadata": {},
   "outputs": [],
   "source": [
    "# Separating features and labels here\n",
    "x = df['Review']\n",
    "y = df['Ratings']"
   ]
  },
  {
   "cell_type": "code",
   "execution_count": null,
   "id": "3e3bf4c4",
   "metadata": {},
   "outputs": [],
   "source": []
  },
  {
   "cell_type": "code",
   "execution_count": 39,
   "id": "5a5b8934",
   "metadata": {},
   "outputs": [],
   "source": [
    "# Using the n_gram tfidf vectorizer (Word vectors)\n",
    "word_vectorizer = TfidfVectorizer(sublinear_tf = True,\n",
    "                                  strip_accents = 'unicode',\n",
    "                                  analyzer = 'word',\n",
    "                                  token_pattern = r'\\w{1,}',\n",
    "                                  stop_words = 'english',\n",
    "                                  ngram_range = (1,3),\n",
    "                                  max_features = 100000)\n",
    "word_vectorizer.fit(x)\n",
    "train_word_features = word_vectorizer.transform(x)\n",
    "\n",
    "# Character vectors\n",
    "char_vectorizer = TfidfVectorizer(sublinear_tf = True,\n",
    "                                  strip_accents = 'unicode',\n",
    "                                  analyzer = 'char',\n",
    "                                  stop_words = 'english',\n",
    "                                  ngram_range = (2,6),\n",
    "                                  max_features = 50000)\n",
    "char_vectorizer.fit(x)\n",
    "train_char_features = char_vectorizer.transform(x)\n",
    "\n",
    "# I will now combine both word vectors and character vectors as input for our model\n",
    "train_features = hstack([train_char_features, train_word_features])"
   ]
  },
  {
   "cell_type": "code",
   "execution_count": 40,
   "id": "487c8301",
   "metadata": {},
   "outputs": [
    {
     "name": "stdout",
     "output_type": "stream",
     "text": [
      "x_train (11240, 150000)\n",
      "x_test (4818, 150000)\n",
      "y_train (11240,)\n",
      "y_test (4818,)\n"
     ]
    }
   ],
   "source": [
    "state = 42\n",
    "x_train, x_test, y_train, y_test = train_test_split(train_features, y, test_size = 0.30, random_state = state)\n",
    "\n",
    "# Lets check the shapes of traning and test data\n",
    "print(\"x_train\", x_train.shape)\n",
    "print(\"x_test\", x_test.shape)\n",
    "print(\"y_train\", y_train.shape)\n",
    "print(\"y_test\", y_test.shape)"
   ]
  },
  {
   "cell_type": "code",
   "execution_count": 41,
   "id": "99c9b71a",
   "metadata": {},
   "outputs": [],
   "source": [
    "# Defining the Classification Machine Learning Algorithms\n",
    "rf = RandomForestClassifier()\n",
    "lr = LogisticRegression()\n",
    "mnb = MultinomialNB()\n",
    "sgd = SGDClassifier()\n",
    "# Creating a function to train and test the model with evaluation metrics\n",
    "def BuiltModel(model):\n",
    "    print('*'*30+model.__class__.__name__+'*'*30)\n",
    "    model.fit(x_train, y_train)\n",
    "    y_pred = model.predict(x_train)\n",
    "    pred = model.predict(x_test)\n",
    "    accuracy = accuracy_score(y_test, pred)*100\n",
    "    print(f\"ACCURACY SCORE PERCENTAGE:\", accuracy)\n",
    "    # Confusion matrix and Classification report\n",
    "    print(f\"CLASSIFICATION REPORT: \\n {classification_report(y_test, pred)}\")\n",
    "    print(f\"CONFUSION MATRIX: \\n {confusion_matrix(y_test, pred)}\\n\")\n",
    "    print(\"-\"*120)\n",
    "    print(\"\\n\")"
   ]
  },
  {
   "cell_type": "code",
   "execution_count": 42,
   "id": "1f4fcf56",
   "metadata": {},
   "outputs": [
    {
     "name": "stdout",
     "output_type": "stream",
     "text": [
      "******************************LogisticRegression******************************\n",
      "ACCURACY SCORE PERCENTAGE: 67.3931091739311\n",
      "CLASSIFICATION REPORT: \n",
      "               precision    recall  f1-score   support\n",
      "\n",
      "           1       0.73      0.83      0.77      1091\n",
      "           2       0.62      0.51      0.56       812\n",
      "           3       0.60      0.53      0.56       857\n",
      "           4       0.62      0.59      0.60       943\n",
      "           5       0.73      0.83      0.78      1115\n",
      "\n",
      "    accuracy                           0.67      4818\n",
      "   macro avg       0.66      0.66      0.66      4818\n",
      "weighted avg       0.67      0.67      0.67      4818\n",
      "\n",
      "CONFUSION MATRIX: \n",
      " [[904  93  58  18  18]\n",
      " [194 412 125  50  31]\n",
      " [ 87 116 454 130  70]\n",
      " [ 37  32  97 554 223]\n",
      " [ 21  10  22 139 923]]\n",
      "\n",
      "------------------------------------------------------------------------------------------------------------------------\n",
      "\n",
      "\n",
      "******************************MultinomialNB******************************\n",
      "ACCURACY SCORE PERCENTAGE: 55.832295558322954\n",
      "CLASSIFICATION REPORT: \n",
      "               precision    recall  f1-score   support\n",
      "\n",
      "           1       0.60      0.86      0.70      1091\n",
      "           2       0.86      0.11      0.20       812\n",
      "           3       0.52      0.32      0.39       857\n",
      "           4       0.53      0.40      0.46       943\n",
      "           5       0.53      0.91      0.67      1115\n",
      "\n",
      "    accuracy                           0.56      4818\n",
      "   macro avg       0.61      0.52      0.48      4818\n",
      "weighted avg       0.60      0.56      0.51      4818\n",
      "\n",
      "CONFUSION MATRIX: \n",
      " [[ 936    3   46   21   85]\n",
      " [ 350   90  158   96  118]\n",
      " [ 186   12  270  158  231]\n",
      " [  67    0   35  379  462]\n",
      " [  32    0    8   60 1015]]\n",
      "\n",
      "------------------------------------------------------------------------------------------------------------------------\n",
      "\n",
      "\n",
      "******************************SGDClassifier******************************\n",
      "ACCURACY SCORE PERCENTAGE: 67.06102117061022\n",
      "CLASSIFICATION REPORT: \n",
      "               precision    recall  f1-score   support\n",
      "\n",
      "           1       0.71      0.82      0.76      1091\n",
      "           2       0.63      0.53      0.58       812\n",
      "           3       0.61      0.53      0.57       857\n",
      "           4       0.64      0.56      0.59       943\n",
      "           5       0.71      0.83      0.76      1115\n",
      "\n",
      "    accuracy                           0.67      4818\n",
      "   macro avg       0.66      0.65      0.65      4818\n",
      "weighted avg       0.66      0.67      0.66      4818\n",
      "\n",
      "CONFUSION MATRIX: \n",
      " [[896  82  67  23  23]\n",
      " [196 429 106  39  42]\n",
      " [102 107 455 109  84]\n",
      " [ 41  41  98 525 238]\n",
      " [ 20  19  22 128 926]]\n",
      "\n",
      "------------------------------------------------------------------------------------------------------------------------\n",
      "\n",
      "\n",
      "******************************RandomForestClassifier******************************\n",
      "ACCURACY SCORE PERCENTAGE: 68.55541718555416\n",
      "CLASSIFICATION REPORT: \n",
      "               precision    recall  f1-score   support\n",
      "\n",
      "           1       0.70      0.88      0.78      1091\n",
      "           2       0.70      0.51      0.59       812\n",
      "           3       0.68      0.54      0.61       857\n",
      "           4       0.67      0.55      0.61       943\n",
      "           5       0.68      0.84      0.75      1115\n",
      "\n",
      "    accuracy                           0.69      4818\n",
      "   macro avg       0.68      0.67      0.67      4818\n",
      "weighted avg       0.68      0.69      0.68      4818\n",
      "\n",
      "CONFUSION MATRIX: \n",
      " [[956  53  37  17  28]\n",
      " [211 416  85  59  41]\n",
      " [118  91 467  83  98]\n",
      " [ 52  19  73 522 277]\n",
      " [ 32  18  23 100 942]]\n",
      "\n",
      "------------------------------------------------------------------------------------------------------------------------\n",
      "\n",
      "\n"
     ]
    }
   ],
   "source": [
    "for model in [lr,mnb,sgd,rf]:\n",
    "    BuiltModel(model)"
   ]
  },
  {
   "cell_type": "markdown",
   "id": "03c5b267",
   "metadata": {},
   "source": [
    "# cross_validation"
   ]
  },
  {
   "cell_type": "code",
   "execution_count": 45,
   "id": "7f261ef5",
   "metadata": {},
   "outputs": [
    {
     "name": "stdout",
     "output_type": "stream",
     "text": [
      "******************************LogisticRegression******************************\n",
      "Cross validation score: 60.891122850333936\n",
      "\n",
      "\n",
      "******************************MultinomialNB******************************\n",
      "Cross validation score: 51.5939669311715\n",
      "\n",
      "\n",
      "******************************SGDClassifier******************************\n",
      "Cross validation score: 60.21222563918123\n",
      "\n",
      "\n",
      "******************************RandomForestClassifier******************************\n",
      "Cross validation score: 61.25226079169385\n",
      "\n",
      "\n"
     ]
    }
   ],
   "source": [
    "\n",
    "def cross_val(model):\n",
    "    print('*'*30+model.__class__.__name__+'*'*30)\n",
    "    scores = cross_val_score(model,train_features,y, cv = 3).mean()*100\n",
    "    print(\"Cross validation score:\", scores)\n",
    "    print(\"\\n\")\n",
    "    \n",
    "for model in [lr,mnb,sgd,rf]:\n",
    "    cross_val(model)    "
   ]
  },
  {
   "cell_type": "code",
   "execution_count": null,
   "id": "7229baf7",
   "metadata": {},
   "outputs": [],
   "source": []
  },
  {
   "cell_type": "code",
   "execution_count": null,
   "id": "ad8747d7",
   "metadata": {},
   "outputs": [],
   "source": []
  },
  {
   "cell_type": "markdown",
   "id": "e8759690",
   "metadata": {},
   "source": [
    "## "
   ]
  }
 ],
 "metadata": {
  "kernelspec": {
   "display_name": "Python 3",
   "language": "python",
   "name": "python3"
  },
  "language_info": {
   "codemirror_mode": {
    "name": "ipython",
    "version": 3
   },
   "file_extension": ".py",
   "mimetype": "text/x-python",
   "name": "python",
   "nbconvert_exporter": "python",
   "pygments_lexer": "ipython3",
   "version": "3.8.8"
  }
 },
 "nbformat": 4,
 "nbformat_minor": 5
}
